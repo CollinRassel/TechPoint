{
  "nbformat": 4,
  "nbformat_minor": 0,
  "metadata": {
    "colab": {
      "provenance": [],
      "collapsed_sections": [],
      "authorship_tag": "ABX9TyOXGrP76Dhuz/vU3Mq4ERnt",
      "include_colab_link": true
    },
    "kernelspec": {
      "name": "python3",
      "display_name": "Python 3"
    },
    "language_info": {
      "name": "python"
    }
  },
  "cells": [
    {
      "cell_type": "markdown",
      "metadata": {
        "id": "view-in-github",
        "colab_type": "text"
      },
      "source": [
        "<a href=\"https://colab.research.google.com/github/CollinRassel/TechPoint/blob/main/TechPointWSA.ipynb\" target=\"_parent\"><img src=\"https://colab.research.google.com/assets/colab-badge.svg\" alt=\"Open In Colab\"/></a>"
      ]
    },
    {
      "cell_type": "code",
      "source": [
        "!pip install pyspark"
      ],
      "metadata": {
        "id": "UHBypTZ-9Tbg"
      },
      "execution_count": null,
      "outputs": []
    },
    {
      "cell_type": "code",
      "execution_count": 2,
      "metadata": {
        "id": "3Cg7Un2nquRu"
      },
      "outputs": [],
      "source": [
        "from pyspark.sql import SparkSession\n",
        "import pyspark.sql.functions as F\n",
        "import numpy as np\n",
        "from math import sqrt\n",
        "import matplotlib.pyplot as plt\n",
        "from pyspark.sql.functions import *\n",
        "import random as rn\n",
        "from pyspark.sql.functions import when\n",
        "import datetime\n",
        "from datetime import timedelta, time"
      ]
    },
    {
      "cell_type": "code",
      "source": [
        "spark = SparkSession.builder\\\n",
        "        .master('local')\\\n",
        "        .appName('Colab')\\\n",
        "        .config('spark.ui.port','4050')\\\n",
        "        .getOrCreate()"
      ],
      "metadata": {
        "id": "WpV2GOs49MIR"
      },
      "execution_count": 3,
      "outputs": []
    },
    {
      "cell_type": "code",
      "source": [
        "data = spark.read.csv('/content/TechPointData.csv', header=True)\n",
        "data = data.withColumn('Type', rtrim(data.Type))"
      ],
      "metadata": {
        "id": "7fhyQtLf9Rit"
      },
      "execution_count": 4,
      "outputs": []
    },
    {
      "cell_type": "code",
      "source": [
        "activities = {'Museum':5, 'Sport':3, 'Outdoor':2.5, 'Amusement':4, 'Shopping':2, 'Drink':1, 'Entertainment':3}"
      ],
      "metadata": {
        "id": "629SFOLt-Glw"
      },
      "execution_count": 5,
      "outputs": []
    },
    {
      "cell_type": "code",
      "source": [
        "def time_change(start, change):\n",
        "    return start + change"
      ],
      "metadata": {
        "id": "qGD9bc8Mj-2V"
      },
      "execution_count": 6,
      "outputs": []
    },
    {
      "cell_type": "code",
      "source": [
        "user_input = input('Welcome to the Indianapolis Day Trip Planner!\\nPlease select how you would like to organize your itenerary!\\n\\tA - Highest Rating\\n\\tB - Rating Threshold\\n\\tC - Exit Program\\n')\n",
        "while user_input != 'C' or user_input != 'c':\n",
        "  if user_input == 'A' or user_input == 'a':\n",
        "    activities_select = data.where(~F.col('Type').contains('food')).orderBy(F.col('Rating').desc())\n",
        "    eating = data.where(F.col('Type').contains('food')).orderBy(F.col('Rating').desc())\n",
        "\n",
        "    curr_time = 9\n",
        "    itenerary_test = []\n",
        "    meals = ['breakfast','lunch','dinner']\n",
        "    num_meals = []\n",
        "    names_for_test = []\n",
        "    print('\\nYour Itenerary: \\n')\n",
        "    for count, meal in enumerate(meals, start=1):\n",
        "      meal_sort = eating.where(F.col('Type').contains(meal) & ~F.col('Name').isin(names_for_test)).orderBy(F.col('Rating').desc()) # filter dataframe to show all breakfast spots, sorted by rating \n",
        "      rating = meal_sort.select(F.col('Rating')).head(1)[0][0] # get the highest rating for breakfast restaurants\n",
        "      spots = meal_sort.where(F.col('Rating').contains(rating)).collect() # send all the restaurants that qualify to a list\n",
        "      choice = rn.choice(spots)\n",
        "      itenerary_test.append(choice)\n",
        "      num_meals.append(choice)\n",
        "      names_for_test.append(choice[0]) # this is to make sure the same restaurant does not get selected twice\n",
        "      if count == 1:\n",
        "        if curr_time % 1 != 0:\n",
        "          print(str(int(curr_time//1)) + ':30' + ':'.rjust(3 - len(str(curr_time))) + ' ' + choice['Name'] + ', ' + choice['Address'] + ', ' + 'breakfast, for ' + str(1.5) + ' hours')\n",
        "        else:\n",
        "          print(str(int(curr_time)) + ':00' + ':'.rjust(3 - len(str(curr_time))) + ' ' + choice['Name'] + ', ' + choice['Address'] + ', ' + 'breakfast, for ' + str(1.5) + ' hours')\n",
        "      elif count == 2: \n",
        "        if curr_time % 1 != 0:\n",
        "          print(str(int(curr_time//1)) + ':30' + ':'.rjust(3 - len(str(curr_time))) + ' ' + choice['Name'] + ', ' + choice['Address'] + ', ' + 'lunch, for ' + str(1.5) + ' hours')\n",
        "        else:\n",
        "          print(str(int(curr_time)) + ':00' + ':'.rjust(3 - len(str(curr_time))) + ' ' + choice['Name'] + ', ' + choice['Address'] + ', ' + 'lunch, for ' + str(1.5) + ' hours')\n",
        "      elif count == 3: \n",
        "        if curr_time % 1 != 0:\n",
        "          print(str(int(curr_time//1)) + ':30' + ':'.rjust(3 - len(str(curr_time))) + ' ' + choice['Name'] + ', ' + choice['Address'] + ', ' + 'dinner, for ' + str(1.5) + ' hours')\n",
        "        else:\n",
        "          print(str(int(curr_time)) + ':00' + ':'.rjust(3 - len(str(curr_time))) + ' ' + choice['Name'] + ', ' + choice['Address'] + ', ' + 'dinner, for ' + str(1.5) + ' hours')\n",
        "      curr_time = time_change(curr_time, 1.5)\n",
        "      for row in activities_select.collect():\n",
        "        \n",
        "        if len(num_meals) == 1 and row['Type'] == 'Museum': # we do not have time to visit a museum in the morning, if we have only gone to breakfast, skip any museum options\n",
        "          continue\n",
        "\n",
        "        else:\n",
        "          if row['Name'] not in names_for_test: # if an activity is already in the itenerary, do not put it in again \n",
        "            itenerary_test.append(row)\n",
        "            names_for_test.append(row['Name'])\n",
        "            if curr_time % 1 != 0:\n",
        "              print(str(int(curr_time//1)) + ':30' + ':'.rjust(3 - len(str(curr_time))) + ' ' + row['Name'] + ', ' + row['Address'] + ', ' + row['Type'] + ' for ' + str(activities[row['Type']]) + ' hours')\n",
        "            else:\n",
        "              print(str(int(curr_time)) + ':00' + ':'.rjust(3 - len(str(curr_time))) + ' ' + row['Name'] + ', ' + row['Address'] + ', ' + row['Type'] + ' for ' + str(activities[row['Type']]) + ' hours')\n",
        "\n",
        "            curr_time = time_change(curr_time, activities[row['Type']])\n",
        "            \n",
        "            \n",
        "          else: # skip to the next option if item is already in itenerary \n",
        "            continue\n",
        "\n",
        "          if (curr_time >= 11 and curr_time <= 13) or curr_time >= 18: #may have to tinker with this statement here, it is attempting to break out of activities when it is meal time \n",
        "            break\n",
        "      \n",
        "      if curr_time >= 21:\n",
        "        user_input = 'c'\n",
        "        break\n",
        "\n",
        "  elif user_input == 'B' or user_input == 'b':\n",
        "    rating_thresh = input('Please input your desired minimum rating:\\n')\n",
        "    activities_select = data.where(~F.col('Type').contains('food') & (F.col('Rating') >= rating_thresh))\n",
        "    #activities_select = activities_select.where(F.col('Rating') >= rating_thresh)\n",
        "    activities_select = activities_select.select(\"*\").orderBy(F.rand())\n",
        "    eating = data.where(F.col('Type').contains('food') & (F.col('Rating') >= rating_thresh))\n",
        "    eating = eating.select(\"*\").orderBy(F.rand())\n",
        "\n",
        "    curr_time = 9\n",
        "    itenerary_test = []\n",
        "    meals = ['breakfast','lunch','dinner']\n",
        "    num_meals = []\n",
        "    names_for_test = []\n",
        "    print('\\nYour Itenerary: \\n')\n",
        "    for count, meal in enumerate(meals, start=1):\n",
        "      meal_spots = eating.where(F.col('Type').contains(meal) & ~F.col('Name').isin(names_for_test)).collect() # filter dataframe to show all certain meal spots that are above the threshold \n",
        "      choice = rn.choice(meal_spots)\n",
        "      itenerary_test.append(choice)\n",
        "      num_meals.append(choice)\n",
        "      names_for_test.append(choice[0]) # this is to make sure the same restaurant does not get selected twice\n",
        "      if count == 1:\n",
        "        if curr_time % 1 != 0:\n",
        "          print(str(int(curr_time//1)) + ':30' + ':'.rjust(3 - len(str(curr_time))) + ' ' + choice['Name'] + ', ' + choice['Address'] + ', ' + 'breakfast, for ' + str(1.5) + ' hours')\n",
        "        else:\n",
        "          print(str(int(curr_time)) + ':00' + ':'.rjust(3 - len(str(curr_time))) + ' ' + choice['Name'] + ', ' + choice['Address'] + ', ' + 'breakfast, for ' + str(1.5) + ' hours')\n",
        "      elif count == 2: \n",
        "        if curr_time % 1 != 0:\n",
        "          print(str(int(curr_time//1)) + ':30' + ':'.rjust(3 - len(str(curr_time))) + ' ' + choice['Name'] + ', ' + choice['Address'] + ', ' + 'lunch, for ' + str(1.5) + ' hours')\n",
        "        else:\n",
        "          print(str(int(curr_time)) + ':00' + ':'.rjust(3 - len(str(curr_time))) + ' ' + choice['Name'] + ', ' + choice['Address'] + ', ' + 'lunch, for ' + str(1.5) + ' hours')\n",
        "      elif count == 3: \n",
        "        if curr_time % 1 != 0:\n",
        "          print(str(int(curr_time//1)) + ':30' + ':'.rjust(3 - len(str(curr_time))) + ' ' + choice['Name'] + ', ' + choice['Address'] + ', ' + 'dinner, for ' + str(1.5) + ' hours')\n",
        "        else:\n",
        "          print(str(int(curr_time)) + ':00' + ':'.rjust(3 - len(str(curr_time))) + ' ' + choice['Name'] + ', ' + choice['Address'] + ', ' + 'dinner, for ' + str(1.5) + ' hours')\n",
        "      curr_time = time_change(curr_time, 1.5)\n",
        "      for row in activities_select.collect():\n",
        "        \n",
        "        if len(num_meals) == 1 and row['Type'] == 'Museum': # we do not have time to visit a museum in the morning, if we have only gone to breakfast, skip any museum options\n",
        "          continue\n",
        "\n",
        "        else:\n",
        "          if row['Name'] not in names_for_test: # if an activity is already in the itenerary, do not put it in again \n",
        "            itenerary_test.append(row)\n",
        "            names_for_test.append(row['Name'])\n",
        "            if curr_time % 1 != 0:\n",
        "              print(str(int(curr_time//1)) + ':30' + ':'.rjust(3 - len(str(curr_time))) + ' ' + row['Name'] + ', ' + row['Address'] + ', ' + row['Type'] + ' for ' + str(activities[row['Type']]) + ' hours')\n",
        "            else:\n",
        "              print(str(int(curr_time)) + ':00' + ':'.rjust(3 - len(str(curr_time))) + ' ' + row['Name'] + ', ' + row['Address'] + ', ' + row['Type'] + ' for ' + str(activities[row['Type']]) + ' hours')\n",
        "\n",
        "            curr_time = time_change(curr_time, activities[row['Type']])\n",
        "            \n",
        "            \n",
        "          else: # skip to the next option if item is already in itenerary \n",
        "            continue\n",
        "\n",
        "          if (curr_time >= 11 and curr_time <= 13) or curr_time >= 18: #may have to tinker with this statement here, it is attempting to break out of activities when it is meal time \n",
        "            break\n",
        "      \n",
        "      if curr_time >= 21:\n",
        "        user_input = 'c'\n",
        "        break\n",
        "\n",
        "  elif user_input == 'C' or user_input == 'c':\n",
        "    print('\\nGoodbye!')\n",
        "    break\n",
        "  else:\n",
        "    print('Error: Please enter a valid input (A or B)\\n')\n",
        "    user_input = input('Please select how you would like to organize your itenerary!\\n\\tA - Highest Rating\\n\\tB - Rating Threshold\\n\\tC - Exit Program\\n')\n",
        "\n",
        "\n"
      ],
      "metadata": {
        "colab": {
          "base_uri": "https://localhost:8080/"
        },
        "id": "8H2FdhEuccXN",
        "outputId": "df92f9b6-a298-4f79-ddc0-908445b42607"
      },
      "execution_count": 11,
      "outputs": [
        {
          "output_type": "stream",
          "name": "stdout",
          "text": [
            "Welcome to the Indianapolis Day Trip Planner!\n",
            "Please select how you would like to organize your itenerary!\n",
            "\tA - Highest Rating\n",
            "\tB - Rating Threshold\n",
            "\tC - Exit Program\n",
            "b\n",
            "Please input your desired minimum rating:\n",
            "4.5\n",
            "\n",
            "Your Itenerary: \n",
            "\n",
            "9:00 : Gallery Pastry Bar, 110 S Pennsylvania St Suite B, Indianapolis, IN 46204, breakfast, for 1.5 hours\n",
            "10:30: Centerpoint Brewing, 1125 E Brookside Ave Suite 2B, Indianapolis, IN 46202, Drink for 1 hours\n",
            "11:30: Shapiro's Delicatessen, 808 S Meridian St, Indianapolis, IN 46225, lunch, for 1.5 hours\n",
            "13:00: The Cabaret, 924 N Pennsylvania St Suite B, Indianapolis, IN 46204, Entertainment for 3 hours\n",
            "16:00: Broad Ripple Park, 1500 Broad Ripple Ave, Indianapolis, IN 46220, Outdoor for 2.5 hours\n",
            "18:30: Metro Diner, 7225 US-31 Unit A06, Indianapolis, IN 46227, dinner, for 1.5 hours\n",
            "20:00: Hinkle Fieldhouse, 510 W 49th St, Indianapolis, IN 46208, Sport for 3 hours\n",
            "\n",
            "Goodbye!\n"
          ]
        }
      ]
    },
    {
      "cell_type": "code",
      "source": [
        "for_viz = data.toPandas()\n",
        "new_df = for_viz[~for_viz[\"Type\"].str.contains('food')]\n",
        "new_df['Type'].value_counts().plot(kind='bar', colormap='viridis')\n",
        "amusement_counts = new_df['Type'].value_counts().sum()\n",
        "plt.title('Types of Activities Available in Indianapolis')\n",
        "plt.xlabel('Type')\n",
        "plt.ylabel('Number of Attractions')"
      ],
      "metadata": {
        "colab": {
          "base_uri": "https://localhost:8080/",
          "height": 374
        },
        "id": "pkkA2zVgbaLS",
        "outputId": "a17d29e9-17ca-437f-bc9c-1c1bf8d5b14f"
      },
      "execution_count": 61,
      "outputs": [
        {
          "output_type": "execute_result",
          "data": {
            "text/plain": [
              "Text(0, 0.5, 'Number of Attractions')"
            ]
          },
          "metadata": {},
          "execution_count": 61
        },
        {
          "output_type": "display_data",
          "data": {
            "text/plain": [
              "<Figure size 432x288 with 1 Axes>"
            ],
            "image/png": "[encoded data removed]"
          },
          "metadata": {
            "needs_background": "light"
          }
        }
      ]
    },
    {
      "cell_type": "code",
      "source": [
        "for_viz = data.toPandas()\n",
        "meals = ['breakfast','lunch','dinner']\n",
        "counts = []\n",
        "for meal in meals:\n",
        "  meal_df = for_viz[for_viz[\"Type\"].str.contains(meal)]\n",
        "  df = meal_df['Type'].value_counts().rename_axis('food_type').reset_index(name='counts')\n",
        "  counts.append(df['counts'].sum())\n",
        "\n",
        "plt.barh(meals,counts, align='center', color='darkgreen', label=\"Data 1\")\n",
        "plt.xlabel('Number of Restaurants')\n",
        "plt.ylabel('Meals Served')\n",
        "plt.title('How Many Places Can I get Different Meals?')"
      ],
      "metadata": {
        "colab": {
          "base_uri": "https://localhost:8080/",
          "height": 312
        },
        "id": "c1stJW0YcvwW",
        "outputId": "c51f7eef-7e92-45c0-edc2-a421f4524907"
      },
      "execution_count": 55,
      "outputs": [
        {
          "output_type": "execute_result",
          "data": {
            "text/plain": [
              "Text(0.5, 1.0, 'How Many Places Can I get Different Meals?')"
            ]
          },
          "metadata": {},
          "execution_count": 55
        },
        {
          "output_type": "display_data",
          "data": {
            "text/plain": [
              "<Figure size 432x288 with 1 Axes>"
            ],
            "image/png": "[encoded data removed]"
          },
          "metadata": {
            "needs_background": "light"
          }
        }
      ]
    },
    {
      "cell_type": "markdown",
      "source": [
        "# Conclusions\n",
        "\n",
        "In terms of food, it is easiest to find a place to go get lunch in Indianapolis. This is to be expected given that most restaurants serve two meals, either breakfast and lunch or lunch and dinner. Not many places seem to serve breakfast and dinner. When looking at things to do outside of getting food, getting drinks is a popular option. This finding is somewhat surprising to me, but it makes sense upon consideration. With the rise in popularity of local breweries the number of places to go grab a pint is steadily increasing. Furthermore, I was somewhat surprised to see so many outdoor options for activities in Indianapolis. When I think of Indy, I think of city life and outdoor activities fall to the wayside in my mind. Below you can see the massive number of combinations of restaurants that you can create an itenerary out of if you plan to eat 3 meals in Indianapolis during a day. The dataset used in this project is by no means exhaustive, and it is a testament to the diverse and fascinating breadth of eateries in Indianapolis. Even more exciting is the fact that there are over 100,000 different ways to organize an itenerary of 3 activities in Indianapolis! It is important to note that these findings come with some limitations that are unconsidered including traffic, open and closed days, and limited or special hours for example. With that being said, this data set is only a small slice of all the things that Indianapolis has to offer, an exhaustive list may be well over 500,000 different iteneraries. In conclusion, Indianapolis is a bustling city full of wonderful dining and entertainment opportunities. You can visit Indianapolis every day **for the rest of your life** and never have the same day twice!"
      ],
      "metadata": {
        "id": "XiMtES10ixZh"
      }
    },
    {
      "cell_type": "code",
      "source": [
        "eatery_combos = counts[0] * (counts[1]+counts[2]) * (counts[1]+counts[2]-1)\n",
        "print('There are {} combinations of meal iteneraries if you are eating 3 meals in Indy'.format(eatery_combos))"
      ],
      "metadata": {
        "colab": {
          "base_uri": "https://localhost:8080/"
        },
        "id": "kYS8F_nPkeHB",
        "outputId": "25eae883-ef1d-4dbf-9864-cb8884e0fb79"
      },
      "execution_count": 60,
      "outputs": [
        {
          "output_type": "stream",
          "name": "stdout",
          "text": [
            "There are 88440 combinations of meal iteneraries if you are eating 3 meals in Indy\n"
          ]
        }
      ]
    },
    {
      "cell_type": "code",
      "source": [
        "entertainment_combos = amusement_counts * (amusement_counts-1) * (amusement_counts-2)\n",
        "print('There are {} combinations of activities assuming you are only able to do 3 activities in a day in Indy'.format(entertainment_combos))"
      ],
      "metadata": {
        "colab": {
          "base_uri": "https://localhost:8080/"
        },
        "id": "3uGG8hTClZcf",
        "outputId": "7892a9a3-7c14-4bbd-d363-72905e7afa61"
      },
      "execution_count": 64,
      "outputs": [
        {
          "output_type": "stream",
          "name": "stdout",
          "text": [
            "There are 117600 combinations of activities assuming you are only able to do 3 activities in a day in Indianapolis\n"
          ]
        }
      ]
    }
  ]
}